{
 "cells": [
  {
   "cell_type": "code",
   "execution_count": 1,
   "metadata": {},
   "outputs": [],
   "source": [
    "# In this notebook we perform a clustering analysis from variational GMMs with a 2D artificial dataset (N=5000 D=2)"
   ]
  },
  {
   "cell_type": "code",
   "execution_count": 2,
   "metadata": {},
   "outputs": [],
   "source": [
    "import time\n",
    "import subprocess\n",
    "import numpy as np\n",
    "from pathlib import Path\n",
    "from utils import read_parameters, plot_center_evolution\n",
    "import matplotlib.pyplot as plt\n",
    "\n",
    "from time import gmtime, strftime\n",
    "start_time = time.time()"
   ]
  },
  {
   "cell_type": "markdown",
   "metadata": {},
   "source": [
    "## Parameters"
   ]
  },
  {
   "cell_type": "code",
   "execution_count": 3,
   "metadata": {
    "tags": [
     "parameters"
    ]
   },
   "outputs": [],
   "source": [
    "# data parameters\n",
    "name                    = 'artificial'\n",
    "training_path           = '../data-generation/'+name+'/artificial.npy' # path to training features\n",
    "test_path               = '' # path to test features (empty string if we don't want a test set)\n",
    "sample_percentage       = 100 # take a data sample for the training set instead of full data (between 1 and 100)\n",
    "\n",
    "# model parameters\n",
    "algorithm               = 3 # 0:k-means | 1:S-GMM | 2:S-GMM-Prior | 3:D-GMM | 4:D-GMM-Prior\n",
    "M                       = 20 # number of cluster centers\n",
    "H                       = 3 # number of clusters considered for each data point\n",
    "R                       = 6 # number of new samples\n",
    "Nprime                  = 0 # size of subset | set to 0 to disable coreset creation\n",
    "stream                  = False # stream data from harddrive to build coreset | training data not loaded and only works when using coresets\n",
    "chain_length            = 10 # chain length for AFK-MC² seeding\n",
    "convergence_threshold   = 0.0001 # < 1 for convergence threshold | >= 1 for epochs\n",
    "\n",
    "# output parameters\n",
    "trials                  = 100 # number of runs in parallel\n",
    "top_k                   = 1 # save the k best clusters during inference\n",
    "inference               = False # save cluster assignments for training and test datasets (when streaming doesn't work for training set)\n",
    "save_additional_info    = 1 # 1: save centers, error, and priors across iterations | 2: only priors\n",
    "verbose                 = 1 # display output in C++ (1 or 2 for even more information)\n",
    "save_figures            = False # save figures after plotting"
   ]
  },
  {
   "cell_type": "markdown",
   "metadata": {},
   "source": [
    "## Run C++ GMM standalone executable"
   ]
  },
  {
   "cell_type": "code",
   "execution_count": 4,
   "metadata": {},
   "outputs": [
    {
     "name": "stdout",
     "output_type": "stream",
     "text": [
      "--- 7.871084928512573 seconds ---\n"
     ]
    }
   ],
   "source": [
    "start_time = time.time()\n",
    "\n",
    "save_path = Path('results/'+name+str(M))\n",
    " \n",
    "if algorithm == 0:\n",
    "    # k-means baselines\n",
    "    cmd_list = ['../build/release/km', \n",
    "                training_path, \n",
    "                test_path, \n",
    "                str(save_path), \n",
    "                str(sample_percentage),\n",
    "                str(M), \n",
    "                str(Nprime),\n",
    "                str(int(stream)), \n",
    "                str(convergence_threshold), \n",
    "                str(trials), \n",
    "                str(int(inference)),\n",
    "                str(int(save_additional_info)), \n",
    "                str(int(verbose)), \n",
    "               ]\n",
    "else:\n",
    "    # gmm algorithms\n",
    "    cmd_list = ['../build/release/gmm',\n",
    "                training_path, \n",
    "                test_path, \n",
    "                str(save_path),\n",
    "                str(sample_percentage),\n",
    "                str(algorithm),\n",
    "                str(M),   \n",
    "                str(H),                                   \n",
    "                str(R),                                    \n",
    "                str(Nprime),\n",
    "                str(int(stream)),                        \n",
    "                str(chain_length),                                     \n",
    "                str(convergence_threshold), \n",
    "                str(trials),\n",
    "                str(top_k),\n",
    "                str(int(inference)),\n",
    "                str(0),\n",
    "                str(int(save_additional_info)), \n",
    "                str(int(verbose)),\n",
    "               ]\n",
    "\n",
    "# running C++ executable within Python\n",
    "p = subprocess.run(cmd_list, capture_output=True, universal_newlines=True)\n",
    "if len(p.stderr) > 0: print(p.stderr)\n",
    "    \n",
    "print('--- %s seconds ---' % (time.time() - start_time))"
   ]
  },
  {
   "cell_type": "markdown",
   "metadata": {},
   "source": [
    "## Reading model parameters"
   ]
  },
  {
   "cell_type": "code",
   "execution_count": 5,
   "metadata": {},
   "outputs": [],
   "source": [
    "model_parameters = read_parameters(save_path/'0')"
   ]
  },
  {
   "cell_type": "markdown",
   "metadata": {},
   "source": [
    "## Centers across iterations"
   ]
  },
  {
   "cell_type": "code",
   "execution_count": 6,
   "metadata": {},
   "outputs": [
    {
     "data": {
      "text/html": [
       "<video width=\"432\" height=\"288\" controls autoplay loop>\n",
       "  <source type=\"video/mp4\" src=\"data:video/mp4;base64,AAAAHGZ0eXBNNFYgAAACAGlzb21pc28yYXZjMQAAAAhmcmVlAABAaW1kYXQAAAKfBgX//5vcRem9\n",
       "5tlIt5Ys2CDZI+7veDI2NCAtIGNvcmUgMTU3IC0gSC4yNjQvTVBFRy00IEFWQyBjb2RlYyAtIENv\n",
       "cHlsZWZ0IDIwMDMtMjAxOCAtIGh0dHA6Ly93d3cudmlkZW9sYW4ub3JnL3gyNjQuaHRtbCAtIG9w\n",
       "dGlvbnM6IGNhYmFjPTEgcmVmPTMgZGVibG9jaz0xOjA6MCBhbmFseXNlPTB4MzoweDExMyBtZT1o\n",
       "ZXggc3VibWU9NyBwc3k9MSBwc3lfcmQ9MS4wMDowLjAwIG1peGVkX3JlZj0xIG1lX3JhbmdlPTE2\n",
       "IGNocm9tYV9tZT0xIHRyZWxsaXM9MSA4eDhkY3Q9MSBjcW09MCBkZWFkem9uZT0yMSwxMSBmYXN0\n",
       "X3Bza2lwPTEgY2hyb21hX3FwX29mZnNldD0tMiB0aHJlYWRzPTkgbG9va2FoZWFkX3RocmVhZHM9\n",
       "MSBzbGljZWRfdGhyZWFkcz0wIG5yPTAgZGVjaW1hdGU9MSBpbnRlcmxhY2VkPTAgYmx1cmF5X2Nv\n",
       "bXBhdD0wIGNvbnN0cmFpbmVkX2ludHJhPTAgYmZyYW1lcz0zIGJfcHlyYW1pZD0yIGJfYWRhcHQ9\n",
       "MSBiX2JpYXM9MCBkaXJlY3Q9MSB3ZWlnaHRiPTEgb3Blbl9nb3A9MCB3ZWlnaHRwPTIga2V5aW50\n",
       "PTI1MCBrZXlpbnRfbWluPTUgc2NlbmVjdXQ9NDAgaW50cmFfcmVmcmVzaD0wIHJjX2xvb2thaGVh\n",
       "ZD00MCByYz1jcmYgbWJ0cmVlPTEgY3JmPTIzLjAgcWNvbXA9MC42MCBxcG1pbj0wIHFwbWF4PTY5\n",
       "IHFwc3RlcD00IGlwX3JhdGlvPTEuNDAgYXE9MToxLjAwAIAAABrfZYiEABP//vexj4FNyAANllL+\n",
       "DfvlogCmNZLptjwjB09IKKhqh8pRrLJyowcC3HH+PskrURbU4gYdS3rLfdwCtuGWk7X62GNFFuG/\n",
       "xYjulrX7CbIJSD6H9fzzEsn8WpxOpQDJaf0bl1OO1VjKWI6zQ548oWd1RGop/D302xhfJEHrjPbd\n",
       "QAAAAwE9AJIlIsYgljKN0mnQxNG6R5F7X3TQjJ5wVvr+FzJTPakPLlh1eyuyH+jIVwzfTmCU9KmO\n",
       "qWAp9mr4wACiX4VAPRv0ye5TdoPSB7tgqDfZ26tsEx+7E+g+Kr9EWXcA57sALnMHePRkuf4uf0VV\n",
       "Kr5hK95pqrKyW5ucj/2wOYU5MRGEKAGtEfMZ52xBi3CWQsTdF/qfpdqZ7MYLWRDIQIF7UybFsDP5\n",
       "zVnUlmNGE/5Nxi6wSFSKxtQr209EdroTTQhYPiDIhsaR/kCa0dHSZ40HDOHYPkVC8YGzbNvWVsMF\n",
       "+7wiCmR5471EKcw1ljbyRjX/Veh7ip0QusjfH00wlgxfOwBUXh4Idkw9DpJvmWsIaALvO5plH5oX\n",
       "yJFoX4Ro6U2xPneh7A6Ve4PCGVljpwjjiVWbark+tMxFfac/TDPWmNh/nep5kmrFt0HXGVK8qrUz\n",
       "S4XOQ9XpW6lgw3PXztdWdKVXf0lQHP4Kx6v9qWFRC11QGcD9mxixR7V63D5UdNsehBbsuGulDluU\n",
       "UQiAB86uUHtEkipZgNlZuR6MZ2JCst0uarQwbxL+ir88UIaheLc2mC546Miw4xvPcGo/p+rp7gok\n",
       "rJ638fpEyGsRyi3yKtaGdk9XW2kx12/wUHGD7Onte+v2z7hpunMqThC/vAUZG5m2ZFJ/lMSPJlGl\n",
       "wUTpfdWlyvi7WC6bmuFXKhBEwTqP5Q/cCGfppP+A37tNvV6lEVk3GIpsVAt79NVIjb379NmSzOHT\n",
       "EK+ITgYCJEvFoFGt1+h6cPcR6PfsARKstA5/c8MZoCtuttVD3tfl2JLycB5gFvWozseJwm5pkWWy\n",
       "I9cff7cteQSzYDnjzveokT2ZUWwe7q9XZWTyxGevX3g7awQdwSYrvmfd5fRpXmhzYmvRpPYWDpKE\n",
       "ACPyJlRwotzTkA/J454tUMy7cITJop5rjxp4JkkcqKDTclow5vTZh8oWIzxuOWoYHgyc8reranHN\n",
       "iN1siLo3Rl4Q9H5zJxfSCf1s2jSD+8H69jqrHzGU7L6UKNRsZ8Wc0haCw99xrr/TJXcae+gCc3nF\n",
       "hnOLzaNHB238TSnmhGAgdgfBFQvfFc+J2os1s3FdPV2gLstUb6r6YlT4PermLHKfwEoGn+BdKZ39\n",
       "9FVm0kZEJe3YfRLiQMCCCBxNTlk8u+jBdmuTGhRB7ql1oqZvRZjhL1OC6VTtsotcraALm26/t0jf\n",
       "XpCw7LTugQFOCLH80SYAZVBu1AwG7YTNe1YHb+HAGVvEVLnXnsSOkZe+X4zaPSgiQwYgU2xC26az\n",
       "H+GusRMkFTjPBh4f12rRyLiZPkbidTbkxI2d0sBJy0v9RVs5SGFIp1pkrkktJE9FYGlkgE0Ka/mN\n",
       "+K8Ew9nyY6f0aTdLdREJJ71xU+psKJu/snXRecdTA+uzny96YpObfyHddzdaxYpK8wdlyMmUL0eb\n",
       "ltRIcw3G3wC+YBUpS4hM48b6vtAcpvDSjT4P0O3DwP4yczCmNKhW5MWKawSAyiVUTLe21dwqC5LQ\n",
       "dFL6TtruVWxq0PgSA635KwdHixEbrViQAbcQh5Qpwk9sNtWLk5Fggz/g3ggaoiMbRSqk8/brnYqE\n",
       "0mqpk7WH3dhuzeLsL3/8/MmzqEMj4nLFkr51RH4wY08n9LpGZ2ORNkDZy3n79TMEvQFtWsgXYkvB\n",
       "ZeHotUWl+dlAvQ/ta+Ttb8MnDlGBl0ylcc+DfUgrAZVXJOP631o90Z3T0I7RghrkXY5NsVM8TLnc\n",
       "HEVqkfsN7wTwtqrDB64nNDHBG9VYWq+eCwLVZiHiFl2m/e/qik7udVUhW6vngAQYxw8KmT9qFvaJ\n",
       "TXyFhAC0zj0Bpuk371CcWmwoepnYqNrhA8SmckWM9itVRoUFcDMUrWe0fZWii8S1HrAggRAH0fl2\n",
       "lJObwfOuIS0mW+95JhDDNOrbS6RVOArHls9k5bkEumCO3ITdUg3VjUBx9n0zDC3okzdJIOCthE2m\n",
       "cpsCzh4QaRahOL6aNghadMdpLMGRQLQasCar/7wRrpizv83Y0BysiXZgQiG1BEstDYS4igYKYtd7\n",
       "4aZYQJ292ankqBhVWv3q9QGftewIBZxCgDwS72mmCQpp1VM+Ut1QkmBZ8A4Rtyx/0QnvV7gqkaJh\n",
       "QaeAKiRTjdULq14Escp6EQxKS3mWyXZba8MCZAUsb2EHrcSagQnwT1WbC2BhOBB3XQ+2xpm0LnhE\n",
       "pmjooPgsbuwxRiRSSoe9wJl41Ip7sCLAXEQ40HGYkgT8jdOSRLYder6H6iVeytxzWxs4tipUOI0m\n",
       "hzE1Ita8jvlwbNuoGDTGgFUde37TnAD952sTerrixg5SLBDyIS2xVJgsk0I+6yw8OTA87ZrkvqgM\n",
       "wlCpgZawRX0jcts3urWKFXR0BiZEShk+1mA7XRf9QQbUnW0iV2KOfpBkJNxWslHbFSjWtImC3F1/\n",
       "B06QSNRs7+IBlv/9joIUqCEgwfcs4zAWucihOWgLQ7KQCps/6UhBYOr/UrG5BQ8uGlCfuqHGmz3u\n",
       "O/FmvZcyh7m6CToHNcpozQjQiSOaaxp8mZnc81ECqLC5etyGuPnX0U6Ty6lCqeBbshsGZacwMXPP\n",
       "l7ZwvX37/oWK8nGZ21f8yPhjngNvkJuihQdLh5eP4Bm4nqg5cEhKjlNAxRpsi3KRMDiEkvQqoeMY\n",
       "29RYmF7Ay+o0/IAWj+FLgEH2WlHah+/DBzTzuBxZnrmJkYWvtCYkNLev/2LRPeK9w5d4eWBOkxQU\n",
       "U4brDssX70NBfai+ZW6RnhyAA73+CiM7DrnAXyTY+RHuL8Ee8QvOdxS6ckc2wBzJBalILhq3reJz\n",
       "Lf/KEdpw88XgvJ51fjkkPfbQF6fdgBIsmEkDHKSSPkAZYdVuIKVOU3IBc+mLq0jOId6VLCZF7e+X\n",
       "dJSm+FBR1uhFyAj4AuN2/SQvxKkp1UD3cThgyVES0E+ibCzsn9VdzhmutSmoq9ok7lS/0e3tsed6\n",
       "tObDNaEH36YlblEaBBSp+fNp/X5XmqrH5682Vsyw04XXjuhu2NOQ/fKzHrbl6AvAt2XyJiBbp04V\n",
       "YLf3FCismhxUy9x5V5yntKa7c23QS2xyDDRSbrE3ibO13fGFy8e8kc/l35iIW8kuzBM0Z8fHZijC\n",
       "+2EtrhX04hfZ/14uDGukrKAtJVZr3a+beKszTzMXiFZmsop5AhVbrTFnAfyka0AigI2kjWWoAO5+\n",
       "YxJ4DIUMa9I+b/9n6vNeagbIDqS6XkrBqeIHiEgtppWzeDfnaP0repNQvNEYQjbIb685HXhN8teU\n",
       "ZOFgNn24fqgY5OHrJfiB3qJ/EvIv3yopzP/HMAaWYMM4vDU/jMGcyTa2qQr1a9RAr6IG5+bRuw85\n",
       "LHqAtdhupPFNX+c+DabZOG2yBC+gHxP/+wEnH+TYAahVC2C5JDZ3ACZA3Dee6VKeBn4fNU/pA79W\n",
       "HbEW28FupLuPn+c7EynVQBW2I0vA5qG9S+X2OT+qgWnT1X+nvA8z/KoOcLCrr4VaomOkjv5BaAw+\n",
       "wqOHxpFAi1LrfhqU7trYtdnAXrA+3mR3YzCjG04zZaqhIcijG8ZRIIUfTW9w14sI4HEDuSGHjVlf\n",
       "RmsuwNrefeS30O7r01RYAzl4dCnIFv0vHdHBPrHzEXMa5gquE0i5CKvSCJ8zFJ2Fa/2omC+q7Bnk\n",
       "k4EHW/RdNf4Gj9ciC7P5OZwPjqoNP80HGWo4z3hnhM7vBL473caDENhMEh7xkEkZtJROnU1Jtcv4\n",
       "UpPJpSTEGXDMfFMbOkUmwsgp9u3yBEkNcjbkT6PQZvTVPfIlc5TU6EZnYQwLAYPFuXzAK1TPRp4f\n",
       "XvIWknCES8ciE5IGaZ1PxbJu0l6WAgCWH5C8G1ksuqU4GcnXIQGGO1BWCV51uGSZfrZ2XPOTLbhj\n",
       "v1WYPTWc9co1SFUTuWFVFFzVC+ZokvGHlm40dPvn7xpSSiTqZoQrCZYqHgXbJy1xU+N7i9wkVdTA\n",
       "uC3SRj0y+qaddc5uQX6RYFJHtR2eP9JxHAZqNvQX6m8pQUdtQnmvfXULneJBsWyPa/8ap0AI0kHA\n",
       "3J4ntl65/NI6X+OP8fTP7UPOgDhDyJJF3WySjEOFCxL538Uz31xrc18iGRU+DwvFD1uwrf3FhHWo\n",
       "CviJ7QiciXKg0MoiNo7nB+IXdzd3ItxpmaNAfRP+wPWvfuQB1hCyrGxbJg5MXM268W78eLqYayxd\n",
       "xoXmjK8SpjuEjfj7WerzZIHuZDVQWz9cYmhaRsgv0jlNkqyrZgltK4TCpao7Uh/2w9HFQ545+71D\n",
       "CJnO7/Sw5XsFCfZKvvkHE4lIUB1D5OxLPuJaj1gQfpbM4Hm5fBCCtniZUmnqfP9pvv381alCdbgx\n",
       "06OLpHbfnOvgJN4og3YRrUeUBMUJAXwqxyEcBwee0ffU9vlcY1TNH7VtNVNWzXlPpEdqwCCpPXmW\n",
       "wQnrpFKQtiR4BavDaa3b39sy6r1/gzbrzCN8baMRA3mOMbczGfI2u8mjPfUbnfHu3uFDtWjG0Uqp\n",
       "2Q9q94HI7VLz+fiVl5gtSmDv4+qQVJNTOrjj4C32nw73u4AS3AemKO6YHiuJvkdwrlqPp8kGnHlM\n",
       "pjkmKAV4gIiaoSq8jpaI3jzkYslkl6ZncOrjjKtpy/xqZu68VtN7MBpB1UmERRrKowD3gsC7b1ZY\n",
       "gBXWjH69lzOHB4NBvIflFO1xlaoXgk7Otm+P89yk9kxK+Y5y0mcrkCEVI99BYvXWDPf2tXYVX4tx\n",
       "C8G+r2HKaMVuS7QFdNfeVQS9GzWdsZGBH3/Bv8KuMfBEUevLL61L20btFHwX1Pc5lLnDmyA9fUd3\n",
       "iUF6xVOdth6Es1miUbPyMMmV+HMvP1hIk6I7O066YRpzeQCNuYxSaGNQcj6b/UbSgHa8wle/xLmK\n",
       "vrNzXWs5q1P3VH27ZSm8MiNo9l1siPcN4zSuezHapc0ZfJ2uOI322DqTigTTu0gI+qfS6OjBmJpY\n",
       "Vs/XzdqJ0TYrzb27Xh3+CQ4j1UjiOE1ujNglTtzcZlZUR1NExNOhfFjR57T6yb81zhBTskBhUpZg\n",
       "7BVNBOrgKe9HMgJ6KHPi7Q/FH9qxlO30r/R24MphNh08gNn8K9Z/7KGpt0zooKZui0hhvBTraBVE\n",
       "ok69dodc2U/gotdtmzvmHVruWg8cmL2r97RMdQLaZi7rRmNrsJFJ0hcgFss178x3HFGIBxD2w+IX\n",
       "a3XM7NrRxmkwpwAi29GdnAHhXJHGWX2CTbn9V2A4QlfYF+VrjKOe8qr2W+oNPx2gJGduPzNc5tAm\n",
       "qvaGToveC0fd8a+y71MbYo7bWLrUQitdwfP2P8uW6RGGRmnlgRyq06P001+ot/xR246WDcjfxxBu\n",
       "Lej2YjvN3rGBajy2n+vfVseV6hAjZRy69NvgraQfQ5yNCcsSy6w15mfjJI5KEvlmrv3xYBeTATxs\n",
       "j3V0njWyJkaZSzC+DKGp4GeleytNbw2KdhvAzqK5RYEK4WKh7yoLZTk8lvQ+oKM6TawwLOM2SyHH\n",
       "faROGzYM9MemszKyFEgsiXYdGFvwN90K1O7JI2KfpRnGLorQT57kfr3G4l28491/pCvanmDl/LpZ\n",
       "gKjUDR/bJgXmtj48tQnbTV7r6zq3vw1vZK0UOzEfln/IesR50A3YZfyAHujmEymhk5X0AHx90RM4\n",
       "6DTmesngMH3StV9YbsnWaAAoUzQ0/CvCGMjDMQFidGUoHasvOMeaqq4UIba4+BbGGclwDC0TTKxM\n",
       "aY+xhfXu77bXFCV4/JiPTtJz6Nu+uomg7XUHLGFbER0HUN2mQZcxmRsSkJpbDbm7r3XWjrUqVZJ9\n",
       "emo8wz/AxOsshrS92umks+9PIHwu1tvqgIldE8K16OxVmuhexAKS/ZWPN5+OUiNM94Kl65QDqxzA\n",
       "F5QvFrQASNu9f348Z5NE4cVMvZhgI6Og1T/Y5WKCbHh8go/5jLGDPnglTfIXeSuSpEyGg/ZGTYZB\n",
       "V8tyjXEL00NZsfX1QAbQ+m33ZEr9kgAcGJiixRJk8AuXI/sDsY9NF9NPR6M0lhU/bzQ3Cs1mErf1\n",
       "B34iTaG9maOsOluv9ukwKhjwhyY91CJfELuD79640tRoQuvTmW8bJKiEV8n84cyX5rZprPeTh65r\n",
       "z/zJH0ruHUZLKGj4lpPAXtTE8KaE8U6qOU7ThGY5diviHWhu6jRgG2uRnFW+rb8NBzPV3vPJ95Dk\n",
       "vw9ZFYjUGoz7YjBpE4VoR76mZMT2bfXnfCxrxxa+vPVM0/gVwSksN1x43m/LXnXHHmZUIG5MOrOr\n",
       "tWfflu7ABy7CCZ5Wj7W9yBHcpKYwt2WeszGfhUE7fdz8m0c8jsgUMRB/9c72cvKTm9gt1awJnva4\n",
       "dwOAs4D0iomKanZ/7zCqqKh6Y3LdjyU0mEsxgvMjM+HsjAoLSEZ7FZ4gLZJOz7s//uJZwlIt6Rqf\n",
       "Q34ZRSvv8EotiJ8K5TWFJ7K9KlWd9vwaxNxAVF/C0aqOs9F87LlkVstLtZnFei5cMS77pkCWl4b3\n",
       "WjmAPQW/ZVEaVYvzqXgCgto7QiTUdgiksLEnWNLxniWgsDCsUCQSu7AT/p/I2NxW0JpJCLkdslSo\n",
       "CMHNDf4wa7tl0hZHL9BS4Vm2Asm972u4LVLGHcY85O2AT0bj4DT8ruZw8qnKa0xkapxyu11Ag0NI\n",
       "vyXCoZNZg/BXkFShKcgfR+dIW6PUn3bb34yW4eiQakM5TL2We0qFIJfKnThRd3TEMXP575YNtPQ7\n",
       "6ZzFsTzwUynOM7VW//2pyehRa3XA6pYxDH8gUUYZybNZabcbfC35lwaYNuHnvOLE4TlSpXe2KXdX\n",
       "FCRAX4Nll3yseBrWX8PTbXI7fhilEgSyf8dE1HXaIWrNajB9qoHPXRnd9SvIaY5QVzhWHqGy2+Iq\n",
       "f+ufigZNJasdq7F/kdo4qI4aYsThTKrKjcD03IRAIyaAV0B8WWAS5OSTQ6inooEnZo/sJuwqm4wE\n",
       "kXpKYlcoTG3GFAIzXbrhsob+vq9BuRny/Kakjw3igU7gcCcruP+sYoXgevblkovAymkGrd7sbFUU\n",
       "m0kHwgfChUNy8uEPdcrNL3M0EuHZ1A1nhhTkB4xEiUyHxmRoFipdQepM0nl+LBDC6G0dTtriEJad\n",
       "NRpIfFZ9VpzkBb+Txbz5p+9LVqd55r2l54wpidcppN0ULWK1GKzQgeaqs3zrDzaYGEBdTUbz2VXX\n",
       "HdOaApthpB595G6BiqPbKvj6gAxqg2nNCZG2S0xi59F6FfAlaB0+PE/+++tmu08ued9ycwwjvDgX\n",
       "z176/Vk+XlF3YITxRR/9P+PzuA/wJG29v3MNgDy07b5O7PzUhJi11YKv6sJHusisjfatrVRjP4RY\n",
       "JIEhiKp3bUb/nzgLkWH6ZFM8/mSQ80MTpjiEQR9hzDaMAAWhjQLqS0MK9SvZrmaVAj2SZpxuyk7i\n",
       "vwD8dL2QKo3N4ne37Ne7OcuAI2zzFl1FEc1hI8CZXYfE6XFHAo7igyD21Rjv6F2u+IA0l9nV29pH\n",
       "CoDdMtoAIl1SVXG4FrJWTz/g1t/9P0LiAku2RfsrC3Ed1hbSrdKwJz8MMgXdGKpZZ2V8MMQuoinb\n",
       "RqjWMvZpuvXXTtvPgBLIDc4QwWfiuL+UYs0S8z2e6S/U8vWo3jml0tzL8HYQ9VAnCE0xYsBEXsGx\n",
       "tu2Js6xzDyJpxrJS9zqSCbt6d8qRz7bgpoy/sNaG24zBgDMPqavs7aSKj/GH9Bh86DzAnSRisISK\n",
       "OWBc+GfCKdWW17m5VRbzM72aW8czv6pULzRzMhE+xsXJy/o+hUhpc7jJ/k4BDqtZTmZlNji7zj60\n",
       "DU2Fp6jqwAHFBPcZmxwaWBMQgh+gw7KzaSW1UJ+05g3aES1vVDjvVtlW8CEyB8NzJCG5/Ivx6n7U\n",
       "1PdFLmpXxOXUznOOMg7FIf+H9L1RVL1d7fnaT9kngbeOmrH5x3XfseBjJDYMJhUOxgPl/Y0K+2+f\n",
       "92tRMtx+Zvd0b0rRr48wZwWzJY/N5ohE/Su9r2NZv7/0l15IPpT0YeJzVI7SB9VZ/6pYM1Jb/cIl\n",
       "95ZRhHoBuPSegGhHZpEKLeH95yxPOp9UNgFT9m4Eb4eqzWvGt6+JdO/xIY86uEHg0NUqk+LfeEeq\n",
       "0W8N9boutPvM+yDL6GUubJoC+OhI7ZQgx9U5qlh8HWmZgIYGH8Rj3/iGxr0apa7LygnNhsh1FMTd\n",
       "HJpot/j/tsug8ukHiqHxS8XSe24S2eGhUaYJmk6NrSjdilwL9EYCTaEOj+RimGYnYD6aUQ7mbICq\n",
       "b+F5bh+ciqMnl0YVDuPyHaZFEFKm93Uf4WtCAlhr4KYCgcmBtKWuFd3QjJytr7TKbwT0qp3ZPzrp\n",
       "mLPYu2ETlaGEnrfczmOw316sFon8gw04ujpYevOaXcVfE+xgXOj8VIQUJ4sUwrgbwHyzzhWaCTCt\n",
       "3gFkZ9nllOrXFRWGuUlc6ZIMSBNYQQAaXO4PfDZu9QquqdwUHj+VM8MAzzQTm6KvNl0N9JxknRu+\n",
       "t7jo2/x0FqB0pdGXlcJPfhXHOeQd8/DhiqF1KUco9giAj3LeZgMUwE99QxUN3G9srgkRRhLUjywV\n",
       "sogcSCPK325aZp+jJZqty1I4VeC5nD/FDjTfBP/D/l2Aj4gyExS3k4pFVLr1kTKjXIyRVTEdAqmA\n",
       "6B3C/2nGRWIjPo6E8cyv+IaMdFMcllZ7Y1G/x7gT6BJz/TQcde99HQS8JbuqULeaGkBwPBon6xRq\n",
       "AvoV5YXsyeBEggRnHl2zk0EGu8v6qran+8zksrX6P/5tJItXu13PhuaDYlp8Sa8Q7pA0sCLYSGUn\n",
       "m/hg9Hh+Dllc1mOf63FGRJyc+OBZzG+Pg2uCbtft3hu6kGpkbPOaf1egIyCimSp9SBuEXAi4apXh\n",
       "h2fR+4nI6CFQdlpvoB7tmOG4SDTL9y51GDO1hsO7f9WFUQavUbKbW3MviQsMfaphKUTmaRv3GTKZ\n",
       "IpEdElHEJjs3ZvXOSbx+jzRAYG3RBPqymOpssMqbkzVjYdK4MI5ADJzONauTbWgN+4qBhyt9EKsb\n",
       "h1p5aNy1Pxk2VrJw7xy2J8jFA7YhAAAEZUGaJGxBP/61KoOpuNwARDDvBXQ8dQ8ZuxP1iDrd+lvg\n",
       "KbAUYTTftQwUwtJGs0UhTHoqOj0kqVrdt6wHuDXIwhmcGkMR/8Hk9NB/cV0pbk2QT2pN8oK7ZhLc\n",
       "xZwY59paOVlNHs/47bdCG2LSVDHtov7LtsoIfIskIEqSPw38J/TmE/vOReyBg1Kk1X/BR/Tx8L0f\n",
       "KTRC9yARjGhNBJ0+SGhdGniJ/14+5Erx4JjB8Ap9HI2BvlH9/I3napeIt1q6k4YrfH+VwArS9ow4\n",
       "pwJZTHRrylgMj5ehUcPceCd+PRwR3L+0MF7sJJuDN8vN/RlG5P2UhC2IuhMd+lnn6ok7zYF0WBSV\n",
       "bUVD1RTbVe0x1IdkE+xnFKRL3yHECj7xokoW6qHAccrs7/BWsdvBOpaQ7i4QKw8LleNCvDhTvlVF\n",
       "W3k3kOvZv33cnF9A46wWpDsXKZJJd0jisUUtScm1Nq3zKqH7mMJObhyulX7uIgHD5NcJWM8P2ykd\n",
       "cMtZZ/O6HIKVdQ+j/OPaX+iFII4EBeUK9PpJpRUUl2svSOW7GKuoccqAlle+znCz81d+YdWo/pfO\n",
       "mriQnc2cYucyuVlaYUlV518OsDScUYUKvA9TlEZUT22wal/Rr/y0xOpcH5/FW/mZ7fG1Fl8AXCbV\n",
       "BXzRC3T9EkV6oltbVcdXwZ3o4u8xh8Le+Sbt+nwcGZT2ZD1R4K2rYgOYJOqt6vUPRNt00SjxJg7k\n",
       "/eGpZoC7+8FEpDTlzSEX7g9RBf5ZQrDnMXQ/qeGgFzV5s3Z10MCf8jzlJe+zG2v+sOD6S7/tgm4u\n",
       "7xF10wevyQcK/nasb9tbosbBOuQPVKpxCfTKJpNSjScP9Jfzo5zDqNBAfUndy+HmT4NhIyah9W1v\n",
       "GIJhN9c3rSBcAqCUkGPeLdo9ixCHnViTQeh3RC8KGUIDhiBMqEL1sgDoMl7eh0/Ekmntc9MsqUhT\n",
       "6MtpFRgiRD+aa4VAjuKGeECWWRR6xh9SEppebZ2NtxjZ0dq3SKSCeM6NO0riDQPudVl0TIFd4OiB\n",
       "R4er5R3fcS++33izWA9gMBVWcxtxfCfHcpQ5TRKlJBvg+r8YgpdRR6V8y8iBPGUCtuLXBnOMDdYv\n",
       "FUfhlc4diwh5Fhbd5bprcqSOsr0wtJtLTdW0gjPpuZNFHFHBsjYCTBNfNfd5K1seone0KaSQJbsb\n",
       "ZJUX+GTAiB9etV1pUBtcB1mSJnIIM6NVtxYGDJ1Kae3dN06OZgj4vZfBzcSMPLbu6bF1Pa4enXy/\n",
       "liXyUh1NJClxlOuDnoKCjcynhIr21b12Tafr//GnmKxRyltIHxnU3VYpnbMwzKLp3/3IxoEO5vkC\n",
       "GLym1WWN/uUF8Qbu+CaXvnl21Xp7c40ayZS+iKSz+nZdXzLYO9E5FvViQbzKmZjXaDp90pMreng5\n",
       "bLy8jTjrAXdtB7a4wqyWTt4kQWU0qNwrwLYSmL7uUfFFmNteXdLDVn0Y3wLUOs+kpUocpHXqkhPQ\n",
       "Dcf311FnlEZXOAAAAplBnkJ4gh8Ahn+yDbo/Ku7IkuACSjhqOf1amtl0aYu0vJQ0yTcy+MvfORZA\n",
       "7K2SYgMhbrHjlARvyYBhZPB+rnvWcE4qSrqmiOVBA+Fof3ftAJLjOG19pr5YjF9e5SsPTp4gIrAn\n",
       "zO98VUVoTxGxkM6Fcn7G08W582iBe8/4EMijluPw6eOvQmg3/4UhIkSdZMVuJiakDQenFjC+Fobn\n",
       "Y8qYTlAAfycrkFmVQNArnj/88+tz8Kj1okOtUQhsBIpECx+xPlV1cd9dRpaoZkMQ3LqCFVHXSwbx\n",
       "4YRywztJyMCNLnzvppoobY2Choo4SlhXetrI42Af8smQSk3663awrbonjTXmhZm1k5Ok83yolZFj\n",
       "OgMLANas3RlhkM5SbjxBUwuyjOFgfM89ldPm/3IbqZVgbLoK8Ne6O7QGUVkcfSqey0Y2/5AZGJQo\n",
       "+JTVec1x6AOhaBHr10q0D15Q9tuuAhsNnPWkvYaiR7Q9MAi67n446o+ca8VDfI+Clukk0wqRnIZR\n",
       "CKkAY7Wi9RZuluzDXtD3HWNl8bJNdc8ITe6b0rPjKvtGKevcKHWf9bZFKKZHUo0X/L9tVL/K+mTF\n",
       "9J54eRSTNgsVgnor6lILGb6F1rWBFGTiyJMwY/MDfXnOkV7jgs06P1BJLk398S8ZeHDP5sp/JqgX\n",
       "p23y7LQYQ+a644TalfD4dXyyyAv0wVjTk6lcaDJuqTziregy7wmTHycfX8yxHTD7XvJBaZutnBu3\n",
       "hMwYOCAV8TBENtXpogp5/b2KUJDr3MZBwj8tO3nAzYuj7dGYDRhlWdTxBzN28tU0bSV/pwESgMO3\n",
       "yAhWY+cHL7zO85hpR41YDpd2rIXAo6QbC1WZEwHnmtZIiA6W133n+vw8VKIrRZ44kuyE8QAAAc0B\n",
       "nmF0Q/8BCX8h7jG3GLjDsxgCiRsmA5nmMomXAk17B3Im42v2dUdDhAHgRbhTH/6pwcEcYcl7idxk\n",
       "fiNIl0EhLkZjKMUZANStprdtNBtRty7Iz+LXRmq6rvtixKUqZIvMJrTnpRUR90NqRDsR6IyD6+yH\n",
       "TnkGx87dHXwSLcLv1NN75PFSXpu739yp1D+65qiryhHdr2E22hiC8iA8gkW00FjgZp4XEkhsSjli\n",
       "Id9uHD1XHc1HgfoIe8K7K2nyKvSHlZ/EMCsACLpO7G2yGKSkdHXHhAa6BGQ/UBqPFKIWZsfGZ1VE\n",
       "hBpNd8UW+NPrfrvovO4PUYOqCObW8cZ8hVp97Id/PfDBPYwTFDv0xlNpkzc+1OV7g/aAO4gpssHL\n",
       "dR0mU90va6i3PHTfiy3tWN9O2FK5/teL5makWycrZZw91hdP6kq827EFxWm6buC+DThJ8OL6i30f\n",
       "3BpJpYYUFdoU8JJK4hH7BIubDY4GWDlFJ/3I+PP84kFRpWEkkQI0ZLb4r6Uirm19gg5z3fWSklA8\n",
       "RadyLfqzdWr9lVrQHEtw3WvD+BbUTq7QLE3ZYzmrW94NRK8cE+P5vrJ1+Tm+k0By4xZDuvKUybFT\n",
       "VIynHgAAAnYBnmNqQ/8ASRtJABboghYk8REp7zk81UkKt5wy/9SVZn7XxnVGjHsj7Yewk6cxdnIS\n",
       "tl2TX2JDD6HOB2uZwfTkWt26chADuUD4IcE5sY3OXqoqs3JAxxofK7xy3haL3oQ8JJlcg2ISdgIP\n",
       "hChfFhaxDal8PO2hYb+r+VY0yWNDdSAgdWBF6pJL9GWF1Wgr2za1nbWRK9rTuCT0MIacyaInhhmQ\n",
       "CccxmWsiCtSfGM0/yVjjXSAWQxGMCjRVlMHkMcQu5CYfIqIXoYR08qFyFAgfh9b+soKDsUq4A7V2\n",
       "FbTUIO1rvM6MrkFdeGL4wqnepBUic5ubTUYGZwI9rlZqozZn9XyXeCParz5qwkhrLtaV/MmJZkVA\n",
       "WuA5dkdmUB5wVrrzgtaYqJhLEVjzVNpgX3CdNBLYhWbvgdY8NrJmsRn0wXgE8HywrmkKdQ1QTLLu\n",
       "JVy3eZfGN5kNwe7VvW9Md9r1h20B6+EL9GAMXKIGji/hu//N81tzOiOvBFEEf1ieJDkWUW3Khl4a\n",
       "X8grCja4Al6YqLXWTBjEXePrE5vRD0YL0/TcnvJAqax5uDZXo52I268ljeMIRgiej4FPghp1ZMnN\n",
       "Xp/1oHaGXpyy5xqsTDwiseZLxyrUDlUC4wmmiioS0xXriR5ISndxnYNquexlYi5Lpja3fcghSPlW\n",
       "ikt8pZfrPy93JzOC5A9zgzIe1Ou6417cUVCIgM447TOrUysJTHJ5WhMN2khA/mIzEqGuizSSM3p1\n",
       "qVYVbxpjYCvlWwXHcl23C+vkYTs0NCSy268H8oKop3UqxObuf3Wm1FGjdm23lJ51J+SRTu/WpGb5\n",
       "FksJ6sK5tOW028EAAAP+QZpnSahBaJlMCCf//rUqgEA78R82QiVLzYOraynZwAOTpxydK4xkMZj3\n",
       "Jcn9C/s4HLdVQddc4oZ6MIc0gKNRiG2pyIuCzb+Fs89mzub3cNE/wc2kdh25aI5hWWrayg5j9aRm\n",
       "tdh/xkh8rvwr1aaYDX7PSVyqqpsymhZF4ecmw4pV6TMDyC/6iFvHP7oREPT8H4JGzWHEFdbECpk+\n",
       "lv4xnvVF/FcDn/nLthPHsnLxcUkiPRl6aepjNHzlkwZNJh8cvaLm59c4sZUKrskWrTB7CDMN9dwl\n",
       "MN3l70XXtYXvIkdvDKZqOLqkAbZsu82t3JA5/ZRKcHb2Yfp+tt4o+yD4VTGK6oS/8xn+xQErIp9W\n",
       "anIRpQAVYa6K8qJR/p3PgI2YT3NWxjBZqQrLziBu0+StegJWcO079PA4Bvds4efYqE5jqIunAHqC\n",
       "xf99k/fiJN5Zot3Sn+xxoZjfI47UhThx3Z55X+Je801I9fix7+FdGEs1x4L9krfYiQr4LuF0rWgt\n",
       "Dd3Pyqp6fY62MloUO9FWIY0OQuThCNXY3IRp6X6qjrQOaxJCCxlY2OCV33mL1dgmqc2vj0j/Z7Xl\n",
       "Pbxmux0Lk45nT7QTY78+5EyzZwH96YGeNUxqr+WW5Q8jjM3VmE0bPfDeftN2Gu0tA8koOKhabWFG\n",
       "yxrvO7jzLWfu2tlnZsbHLGrrN/dNqEA7CMi84Q0sWA69u+3oNfc/tMgRLTyQj+OMmYbMiBcvwVeA\n",
       "T9g86QN9ej9tuBsK6xz1GVc03X/j1Qi8d2gbAwsvyMONAe7Fk0Fd7QwGKuPZusw6WplvFivDH7Ds\n",
       "kfvtnzLcM12ZzOwmPZeS7bm1I5wFIw6ndv2DUhIpLUKYx+7+rnkTOMxltEeqv3pdHHKnGxa3UPqJ\n",
       "1toF6nVf2nnCwaWpKtoA00NCiyGQaYv6+3mZokNauNHf7GMg05GbEw8ENY2uNPXjuO8GUvpgXtmz\n",
       "UYPcWrhB9CcTE9YLFpSbqq8BSYUpmSChONJEiNak8+2UG65FpsEpDVKkJOgatIU+Bk3c8jj0Jrki\n",
       "hyO8BasrNog4OpZKCQeHjYHeK2/wdEAg/yQgAwMarjZlTSyfvHdeEzBEXfCnShadYZDfotewg6pY\n",
       "hLZqU07iKw3smIU+M3w4YfHk4rd5lXHfpIrATO2SjsZ6BugY4C7/YD0jRNUw54u3kLQC+iqqHPxQ\n",
       "Cr3oDXbgdw3Y8Kn/mR5k3u0uCVKN2hS6MJuHXntgjnj/T0rHp7F8V2FgOQZlDdLwxJ4altfVH0be\n",
       "60i2qYHx6m/TgoUMJLHJfyXPOOna22+atOyJVyRaIcIeM5SbumlFCL/UfhE/y+0KLtxS3Umkrj26\n",
       "gP6jm5muwVaER7sAAAHUQZ6FRREsEP8ALkKdmPkZxmKfCYS10zwgATSxlBpkFF1gw3pvM28+q0zK\n",
       "qe7LDIYtlcjrAN50oPZAMa+3CoPAhmbgKS+4WPqcXqeGnfoOqfPnffmv/aKEipGIueqW31WJK+t9\n",
       "fbKi+bpT97MAvS0CC7Tqgzba60Qi7BdIGvVF/zoS3529bHaG7Sv4EniaveQEo0Xn5sU5/YtQetbB\n",
       "pjEMllL+6G9+a49Q6JLoiKz0I4fRkH4d133KQz/r5Fpi+6YewCJflPVwZjfZyV9Bz2xIV6gYszYB\n",
       "XUt4C/jkt8wbYLUZYM7toStYgHQSfQoeklYwBR6iHxKblHZlQKFJDYq7Tg7TiadB0sjOuXRnypJK\n",
       "7hPyafG0BlqIZ+bi9ND30JP4w2wRSHHRofimuJOxFCIAm1wHk8DH4XgYbhUxHMiUJNkN9x8KyLOl\n",
       "xDkpMaYac60izoAl/ylbfufBYMBSPbhhUXZIpb1KKfTVWpP6KBPOX5HNM5KMVUckXHzbATVoRcqt\n",
       "zSix+OGTxCyao5WGmz5EukB1pOacPv+1fu0CfHihLk6je1GZG7Huk61VAa/5rMH+fo4UB/3lTRTg\n",
       "ldZPO/QdFnw1WjyOpqRBeTBVGVZQ8VRxDXWFAAAC7QGepmpD/wDD/NPxB2agA/OhK7TabxOimzlt\n",
       "kjM5BP9MNd4xgacxe7lzymHZvQ7F7CkrzL6WjqchnirDvTTPJAl9frFmoHIXXGUFYkBhn9130YtP\n",
       "uG0hVMHM6bqSkNB3Vzz8o/20OHeBDw856sy1lvUdyW9WeAExzxkFxamti1rP0BXJrnJoJOTBVcXH\n",
       "il5Ft9ggGT9H9kDIUckAtSUt7BlpQz7HMXBTuSZihxlkGUqYtBREMwtOfH9aunoLC7Ip6+LbnAan\n",
       "7Y7iYIfHEDIFdba+7DWQPyH7Nbgt7YglZl1vDN65a0SkMP+kcGnQ9h75xFMqEJ7JDsm+CUbcNQ/7\n",
       "0EtloMuPnI/E6qp2+ONcYHTY4SAIWNkXSif2otIQ2RkkoGguEkxkr138Q4C41DFSLWd9ver3gUe1\n",
       "GfHm7BHPjMbER7bqfxEPJQ9odqO+yLKve0VzOEFD5NJiLH8mSLDmdd7qhehrFIvYpqR+RwhE7qsI\n",
       "l+OxuVvHbbapyUk97lwCn5YsH+8bR1PnKYxZN1taT561ZURSeZbd7LZmVm1Fnkbgy2vJlH/56i6U\n",
       "4lLo2ZmWRZLWKOwQU6ICBGRY2mNuQgePuEUNGpmzSqwkynFEcgskBFpsQd+fmPR8pM53AFMS+1Un\n",
       "qA3ad2hXj6Fh4ehHR5P7vdMsYDGxmefvy07WBUT3eKp6qqSfgjbhMuiida6ZHq4L4N3r3TvzCQiM\n",
       "K65EcA1t8loM68ao4XVYK5lq2+0I3v7KuE5EPcsGo5EcVWho8pP/kQnmsEAAGn2Rrqf5Xmm/OLib\n",
       "15CL6pv5QXV7wkwB5UDKW5mMKjKrBpj3+FvDIGFZr+H8yQTW5EHQpN/Oq7ZkV3UTMzRwK9Sf56lx\n",
       "OgpH0xJHkbETL8rf/I1QekXPgLP0Xgjei1idqDU/L3Vn0qTCMnizI4wKFmQ28gFn8mbqmajrNyBg\n",
       "Z3CcBL5aDMDb1Ra7f4n78rMaclGPLW5UzNa5AYGu32/Yp3c8CWlBAAAFO0Gaq0moQWyZTAgl//61\n",
       "KoBK895ADjqTpqDnCvQweONt1z4HoR2AnRlRsuuIgHbdannRobe8TCnbmqp9YHVqCE3Dw09P8SUa\n",
       "aayX/GngatGtWyMhjusTT7zEo1l6FDR5JcxRQg/ktWetvpTpSMrLHdMV1oKOavIQHkutqeFBK39B\n",
       "aIMkhnS7JCcu8VOWbI+1Y7Mk6v7t1LDcjy8t9j37eneLJ4pGAjNHV1XjfzrfnCn+Shqwe/SCsYzP\n",
       "hqppk1icq+ZfncswQ9BipohjeHqQ11BhDfaxHr/Xlkk+nXZT7hp1YXrSdMAaG+g3yr0i+l0Hq48N\n",
       "g8ZYVgYWXBVgeNnlKd5A5gnMlTUD9YfY45fRJpSmPvcVgeg9joxR1bSDqHCTNQRkrzOjuV5vwAUQ\n",
       "SDfMbTORgtixJN8fgDb797qzCOJvrMxP/74RndO7KX4q61fe6p5N63tC0RFQt7er2g1wOVr/ncV5\n",
       "opQ2f7nhnvg0gVimINZWqTX1Ap20U76Zw7zJYXpBIJ+1L7GwcWBnDhKjfwEZbm9h+Dmp3Ebqtgw1\n",
       "/stfUqYDPs1+DBDafyjGZFThAwKucyfxcZEvYe9D17c9h7nIfwyK+bqFDR1SfNe9o3LJJshP9Zzt\n",
       "P4BZUR7Zac1r7Mwu4Q3hMEG+yi9RQHNJHlqkS5Leb8HT2zVNNDMXX0d+M5ELh7zuXngA8A1WUQRp\n",
       "QydQYEz3BmP7CJ/KqWJyjUPFOHPjNDQXtYXeLY2MpxDqrRAAj0Tvzhzl/Uhut4U5L27wPtt+1cJ1\n",
       "y+JXKu9dGiC3b83Nk1xhrE47CzNTLU5G1Su1JVbm6M7825ZTi3qSKd8ElXs9jPC9o/aIHaoGkC76\n",
       "iwrxLz21BXTkXZbOzLdZ8/+COmCuWeGI1qg1pSijhvlYxFAsoYOISegJyH4+lgZc+5ACBclFtSxy\n",
       "UIEg1GZFS+wShlmoTqlPcdF94igxXe9PdU5uf2E/uEPZEmtEhqxs3b//FZsTFTWB3sme2iUOehRt\n",
       "XmyVIl6HKyyOnrDCwtudMxhjUGH3+hCQlyQG2QFZTHSEd8qyxSPVc2OqKnPOeZT+CJ0o4FQHc8Ed\n",
       "qS33T+b9VrylUtyQfEchKqINuxyfsYT8AdStjEVrOLA6Ed9ZXtt91hp8qBi9pBKR7BD8J2KssQBW\n",
       "l96dTaFI5QJVJZP5XrKPfVRKdjuj8XplpPCfbA8eH+22k+BcIykgwYZX46627d95FXGsX3D1mVF1\n",
       "SjGU/l7OUGZ3zJTqjLZEEO/23K8NB9tXn84sIexU6Ga0omnCuxOuXI+rtFJbYgMWUygfjdOaJBw4\n",
       "KfPQYo4YH8oGsI9wCPRlCUGPy6WZTzJG54iHZ758fmtkxSHV2SAo1h6cLm/8mJjbpL6/MmXIkwCy\n",
       "//MSMMs5uwgUmhUoBJ4YcfMdF2/UAMxWkLEvOONEMlfJsCBvv2yzAG4ZRHyPMsvPWBw21blV7uSd\n",
       "ZitSOJ5uIgHo8RCls5By4RpbY3LyETirGBrFqpT/cJ4U4EalZB494o7wAJfZM5EQ2zuzFXC72UEy\n",
       "Ue2gZZtRSJbuHXVr+pPxHZo/CGNXSDW8vA4CeDmkoF8+5EMjKNwMlCBaP8R7Ozzu6IK2+lJmomhp\n",
       "vEa2kdd+/An7B3yfVSRzQ+OK1V4PIIkFGZJi8IXp4q0fieh61Wu76iQaRZroY4h2Rgxbyqb8JBRb\n",
       "eCSwG1/E+3hFNtqfYKnEyf4QsfWlG/kJe8lIC3pZMme2Lafa99Bwt76b7CfQrk1It0T8wYWDZpKl\n",
       "abpcrMZ0BN8bGZYYqYAAAAIlQZ7JRRUsEP8AIIh2qKWnV4F3kkgBmW+TuunEO9UuHgUe7A8hzsYR\n",
       "bPGnyHM7S6GLm1Cb0x0VnFBJLmOLwfuOtg3x1of/f4cYr286g5VBN7G6RtnMGXWN7Zcb5sAhkGdE\n",
       "vn6+u2smWdSQX/oirZtMNZP4F35LSWFJa6MZoAKGxtQwFL+TcdzuiVkWjIB6VhTAacHca2OKhPSm\n",
       "bvJD7zdUCGXMvdUF7/47lu5l+XuV6XXaG+XH/f1pXRfD0dx70/bIJM53Zixf5oqFzkiaHu88f0Yl\n",
       "HIKhXPUBXkS9CXRR5zr5VylggMjxEA/anR0T59iN9+froVNvYiCzaC1Cvr06knYNkAPw6z2C41K/\n",
       "FShGmo6ew7nJwnR933SlBgpLLA40qGl2nf5KLFzY0Sy07LhHESluTRtcXdxzqXZ/8HSvTss5mvTN\n",
       "N2ak+kOxnF3EIVP0nR4Hj0xGo6LOyf3H+GfzqdJ48DyUxFtgA79lmGKI7ZWK6q6X5TPDJbrOPn99\n",
       "n0Iv/DsD91mviYPkXdwY2DIZbbAd4xpg8uSLgCVL+Bnk6CdjaKMfiCvrFk0T4r3O3DcTHJDQtqWb\n",
       "ggsmCNWYncrJ/68x2U8M6zIg8ViQXLWFcMb+ENE2yKmtqDlPazHZMUcrK7DqBLMWO2/yRH7hHeYM\n",
       "i2+bQh8fp39RXWYpuIvdJBtSGU0xgs4drX2M2uXCcSF5Byrjxf3SL2/wlavf/+GTJgzUA8KQAAAB\n",
       "/QGe6HRD/wBI1yTI/0Oi1j/W0AhG2tAVoHPkF1sEL0uDj4AW9dkG9R5nZvrJKz6Tl1/t8gPTbWB9\n",
       "CCW6I+w/L/fuHkmlIGdLlKtfdH7Ahbgq1DBTMXN8YeWiCPe/ZZuoNjk1pETb1p5rPQMS7cMDaW+R\n",
       "DHdxyWFimi9oXmP7FNFuyYCUptc8QO6USAqxkQYJGqiT0QPjggPL+6JTlmksDpDtrl7X/FjtmK5O\n",
       "qZwbtsWchKN9m8gNHh4uFkXcB3I1wu7qXsUJXPSyx8KyPvCUkT6jCclGO/vKr8S1xXydKI7qFYb6\n",
       "7hqeMsdgu6okSIY5ZPAl5C3CThCDQaYly42JvqjprIgoChXy8vIONTbV8fOaZmYZclaYNkPCE29j\n",
       "DQB4y0veBoPTbGCvKbG9SsFrNeNYds5INbDVcbMnR6M8k34Ev/74M03Jv2qZtjGCqjNV27CSHVLG\n",
       "O3JUwnxtj/qkfICoE8dEKP1MQ0MZPmYpbq9qJKKkNdAkb9ycjCm4g4/ANLlNnYoGf56bvAsdWP/M\n",
       "0xAJbaRobtGVbymbfC+K225FpjGnuKgzKzAFjmKRxwiInlUSH/uYCyC7jjcR5csViZwd4+6R1yzA\n",
       "G9LHWIF7S7KTR7kiOWaKdwy1xPVHBySxyl6NHwf+W4JZoM6ySQbm9z0B0S1IFM6zVzWt5d/hAAAC\n",
       "FwGe6mpD/wAYfNJWG8mYPfu2AFpS6pkdhWQjonuC9jn4kDNTRwI0UTeZOpwSaxjfts6kJkUyyRf7\n",
       "pe+plPHmmFkGId7FLxLbzQ2Iftf8t2ND2WaLhNk1nMLpgFPLdyIns4WVrz7XrmeBE00Cs6+aWemf\n",
       "VThJYTEgFQdPvuZChjnE+pyos6Geh4vxs8tCTKXy/KSSY66PHflrw2oUHETMVL63RiZMdJK1SpLj\n",
       "UrdFw7xM+nC53yAWsCp+6PjkuhHDkTis4lobLH9rtBGXp6YneSCXQtL42MMQ6eIVZgpJdqspfDg8\n",
       "yKBToTON34z/CQWDYChfMY+NI2yBVDvxps6n2twPQZyTXykivVI6vugZVP8cThIUNO6KVoUV45ow\n",
       "KVrr3Tq4lbbJNX7/ooiOUy7FyKylgo+pp9iOZ4C1pee3KU96iSTbuIGk2ukc8FU9becIbQA4xZW+\n",
       "ADW6MET0Uingxu7m1jTQFQaQN9yutiUOak91XJlpb8FgAhZUhf+FH5qSirivSlFr9kAf6dYheOV8\n",
       "vgGKlz6s4plAI44zqUtR6bQ7NJVRC7I7wJ0Fzz5RSGFZiKojZgYyx8hocD2RluAMIz3AyngGL9Py\n",
       "+dh6rE5IYcE4vC6sHOu1b8VkNRC0Uger8DoSa3uxAu1g6NRISSAFpcwSlBcJHG8e1Arxr1gX9sM4\n",
       "YwFgh1QruG9Rrx0MVq0Rm4VUlDQU5QgAAAEwQZrvSahBbJlMCH///qmWACELbXoAFFNToxSPAmMF\n",
       "Fu1uH8hR/Wn57DNzBwIB7RfO1bkW8tDuHJj511FwWPrsj8Cwy2nvWB6Yd/uFDiz2ja9V7xsTtJg0\n",
       "rPmD42DuGvHudMt0EYmR6yj7ki8L/xnAKPxmNWUSna4DZkOJ3J0oif3ZTurHfRnqb7fbPduRklsP\n",
       "wFi2EFC24/EmpF65C89q24q7Ekd88F/O1RJdSZR8doFMk/B+8t8ncn5vLh7i+PJ7l6UEEBbytXN5\n",
       "Fv2Qoh23uf81tEE2UmDdzkUD0fiZn6nx/oOnLa+LmSKIxWjskYkErQ5fNKq4YqSRgGoNeh6Ljklp\n",
       "fv+aCPufxtoVKidRnMYvCT5Y1jAGfkywkP3vouasfYhgR0rUsca941OLcFzAOAAAAHBBnw1FFSwQ\n",
       "/wAc3VLv/1BnpwtsCiuc/S8HAAOG+52JxyfFqVmsTZWtCwdaSHJEvUJjI52ODH4OgHQ2cp7+EWOQ\n",
       "xZa9Kf/j473xlfqRD9SF/pQ93pi9VruA6BrjI5f1fM4pajrNHfTY454wzOE5nTTZAAAASgGfLHRD\n",
       "/wAL7J5MA4ARMT8FBEs+fCk7MuG8dG3f4gEoTBVgG/evFtB/b/fytLA7fFawSOw39M620G0arjV1\n",
       "MC3Y17Ahg5QoimS5AAABQQGfLmpD/wAL76ETgBVH/w54iPO6pz671PIB+ZLmdBdLmb3QxRMmlSy2\n",
       "iEv5NJRFV4IcT0yVhWyqjEvBy82NQ0oi32wAXbFeQ68Dgf+tDdMo+9SoKDE96Xt7Wvu37F1Ew7ve\n",
       "dlCb1/4Osew/XaX4AbsC8p7XAkhMsawe8vmXY+whi+/Ju++VuTCE5dwRJUmXCUxH8KARgiS/NDrH\n",
       "nca6BkMxgwmBPBP75bTFfj1DiOD77emeA2MTedlZ0wf8ABC4lJWtVoXwpj7vat2ZuHnvYtCiqzRA\n",
       "an4CM8bctFuedqGgbgREkwXC5l/Vd1wwr5rEvHnCnN42NK9JV6v+gQiT91oUzS87BcQ5NBmFZFoD\n",
       "YxJKS31abAwMXGTKwY2kaaF8FalpWtp0kOPsRnEd9CAAY0G+FTPAHf0iIZ7QUoPD1+5dgQAAA+Zt\n",
       "b292AAAAbG12aGQAAAAAAAAAAAAAAAAAAAPoAAAMgAABAAABAAAAAAAAAAAAAAAAAQAAAAAAAAAA\n",
       "AAAAAAAAAAEAAAAAAAAAAAAAAAAAAEAAAAAAAAAAAAAAAAAAAAAAAAAAAAAAAAAAAAAAAAACAAAD\n",
       "EHRyYWsAAABcdGtoZAAAAAMAAAAAAAAAAAAAAAEAAAAAAAAMgAAAAAAAAAAAAAAAAAAAAAAAAQAA\n",
       "AAAAAAAAAAAAAAAAAAEAAAAAAAAAAAAAAAAAAEAAAAABsAAAASAAAAAAACRlZHRzAAAAHGVsc3QA\n",
       "AAAAAAAAAQAADIAAABAAAAEAAAAAAohtZGlhAAAAIG1kaGQAAAAAAAAAAAAAAAAAACgAAACAAFXE\n",
       "AAAAAAAtaGRscgAAAAAAAAAAdmlkZQAAAAAAAAAAAAAAAFZpZGVvSGFuZGxlcgAAAAIzbWluZgAA\n",
       "ABR2bWhkAAAAAQAAAAAAAAAAAAAAJGRpbmYAAAAcZHJlZgAAAAAAAAABAAAADHVybCAAAAABAAAB\n",
       "83N0YmwAAACzc3RzZAAAAAAAAAABAAAAo2F2YzEAAAAAAAAAAQAAAAAAAAAAAAAAAAAAAAABsAEg\n",
       "AEgAAABIAAAAAAAAAAEAAAAAAAAAAAAAAAAAAAAAAAAAAAAAAAAAAAAAAAAAAAAY//8AAAAxYXZj\n",
       "QwFkABX/4QAYZ2QAFazZQbCWhAAAAwAEAAADACg8WLZYAQAGaOvjyyLAAAAAHHV1aWRraEDyXyRP\n",
       "xbo5pRvPAyPzAAAAAAAAABhzdHRzAAAAAAAAAAEAAAAQAAAIAAAAABRzdHNzAAAAAAAAAAEAAAAB\n",
       "AAAAiGN0dHMAAAAAAAAADwAAAAEAABAAAAAAAQAAKAAAAAABAAAQAAAAAAEAAAAAAAAAAQAACAAA\n",
       "AAABAAAgAAAAAAIAAAgAAAAAAQAAKAAAAAABAAAQAAAAAAEAAAAAAAAAAQAACAAAAAABAAAoAAAA\n",
       "AAEAABAAAAAAAQAAAAAAAAABAAAIAAAAABxzdHNjAAAAAAAAAAEAAAABAAAAEAAAAAEAAABUc3Rz\n",
       "egAAAAAAAAAAAAAAEAAAHYYAAARpAAACnQAAAdEAAAJ6AAAEAgAAAdgAAALxAAAFPwAAAikAAAIB\n",
       "AAACGwAAATQAAAB0AAAATgAAAUUAAAAUc3RjbwAAAAAAAAABAAAALAAAAGJ1ZHRhAAAAWm1ldGEA\n",
       "AAAAAAAAIWhkbHIAAAAAAAAAAG1kaXJhcHBsAAAAAAAAAAAAAAAALWlsc3QAAAAlqXRvbwAAAB1k\n",
       "YXRhAAAAAQAAAABMYXZmNTguMjkuMTAw\n",
       "\">\n",
       "  Your browser does not support the video tag.\n",
       "</video>"
      ],
      "text/plain": [
       "<matplotlib.animation.FuncAnimation at 0x7fb8e073b610>"
      ]
     },
     "execution_count": 6,
     "metadata": {},
     "output_type": "execute_result"
    },
    {
     "data": {
      "image/png": "[encoded data removed]",
      "text/plain": [
       "<Figure size 432x288 with 1 Axes>"
      ]
     },
     "metadata": {
      "needs_background": "light"
     },
     "output_type": "display_data"
    }
   ],
   "source": [
    "from matplotlib import rc\n",
    "import matplotlib.animation as animation\n",
    "from IPython.display import HTML\n",
    "\n",
    "# creating animation\n",
    "anim = plot_center_evolution(save_path/'0', ground_truth='../data-generation/'+name+'/artificial_centroids.npy', save_figure=save_figures)\n",
    "anim"
   ]
  },
  {
   "cell_type": "markdown",
   "metadata": {},
   "source": [
    "## Quantization error across iterations"
   ]
  },
  {
   "cell_type": "code",
   "execution_count": 7,
   "metadata": {},
   "outputs": [
    {
     "data": {
      "image/png": "[encoded data removed]",
      "text/plain": [
       "<Figure size 432x288 with 1 Axes>"
      ]
     },
     "metadata": {
      "needs_background": "light"
     },
     "output_type": "display_data"
    }
   ],
   "source": [
    "error = [np.load(save_path/'0'/'tr_quantization'/str(str(i)+'.npy'))[0] for i in model_parameters.iteration]\n",
    "\n",
    "fig2 = plt.figure()\n",
    "plt.plot(model_parameters.iteration[1:], error[1:])\n",
    "plt.title('Quantization error across iterations')\n",
    "plt.show()\n",
    "\n",
    "if save_figures:\n",
    "    fig2.savefig(save_path/'quantization_iters.pdf', dpi=300, bbox_inches='tight')"
   ]
  },
  {
   "cell_type": "markdown",
   "metadata": {},
   "source": [
    "## Free energy across iterations"
   ]
  },
  {
   "cell_type": "code",
   "execution_count": 8,
   "metadata": {},
   "outputs": [
    {
     "data": {
      "image/png": "[encoded data removed]",
      "text/plain": [
       "<Figure size 432x288 with 1 Axes>"
      ]
     },
     "metadata": {
      "needs_background": "light"
     },
     "output_type": "display_data"
    }
   ],
   "source": [
    "fig3 = plt.figure()\n",
    "plt.plot(model_parameters.iteration[1:], model_parameters.free_energy[1:])\n",
    "plt.title('Free energy across iterations')\n",
    "plt.show()\n",
    "\n",
    "if save_figures:\n",
    "    fig3.savefig(save_path/'free_energy_iters.pdf', dpi=300, bbox_inches='tight')"
   ]
  },
  {
   "cell_type": "markdown",
   "metadata": {},
   "source": [
    "## Sigma across iterations"
   ]
  },
  {
   "cell_type": "code",
   "execution_count": 9,
   "metadata": {},
   "outputs": [
    {
     "data": {
      "image/png": "[encoded data removed]",
      "text/plain": [
       "<Figure size 432x288 with 1 Axes>"
      ]
     },
     "metadata": {
      "needs_background": "light"
     },
     "output_type": "display_data"
    }
   ],
   "source": [
    "fig4 = plt.figure()\n",
    "plt.plot(model_parameters.iteration[1:], model_parameters.sigma[1:])\n",
    "plt.title('Sigma across iterations')\n",
    "plt.show()\n",
    "\n",
    "if save_figures:\n",
    "    fig4.savefig(save_path/'sigma_iters.pdf', dpi=300, bbox_inches='tight')"
   ]
  },
  {
   "cell_type": "markdown",
   "metadata": {},
   "source": [
    "## Average prior decay"
   ]
  },
  {
   "cell_type": "code",
   "execution_count": 10,
   "metadata": {},
   "outputs": [],
   "source": [
    "if algorithm == 2 and save_additional_info > 0: # only works with a fixed number of iterations\n",
    "    priors = np.zeros((trials, M))\n",
    "    for i in np.arange(trials):\n",
    "        model_parameters = read_parameters(save_path/str(i))\n",
    "        prior_path = save_path/str(i)/'priors'\n",
    "        priors[i] = np.sort(np.array([np.load(prior_path/str(str(j)+'.npy')) for j in model_parameters.iteration]).T[:,-1])[::-1]\n",
    "     \n",
    "    initial_prior = np.load(save_path/'0'/'priors'/'0.npy')\n",
    "    mean_priors = np.mean(priors, axis=0)\n",
    "    std_priors = np.std(priors, axis=0)\n",
    "    \n",
    "    fig, ax = plt.subplots()\n",
    "    plt.hlines(y=initial_prior, linestyle=':', xmin=0, xmax=M-1, label='Prior distribution before training')\n",
    "    plt.errorbar(np.arange(len(mean_priors)),mean_priors, std_priors,label='Prior distribution after training')\n",
    "\n",
    "    plt.xlabel('Cluster number')\n",
    "    ax.set_xticks(range(0,len(mean_priors),2))\n",
    "    ax.set_xticklabels(np.arange(1,len(mean_priors)+1,2))\n",
    "    plt.legend()\n",
    "    ax.set_ylabel(r'prior ($\\alpha$) probability')\n",
    "\n",
    "    if save_figures:\n",
    "        fig.savefig(save_path/str('priors_decay%s.pdf' %M))"
   ]
  },
  {
   "cell_type": "code",
   "execution_count": 11,
   "metadata": {},
   "outputs": [
    {
     "name": "stdout",
     "output_type": "stream",
     "text": [
      "--- 9.855844020843506 seconds ---\n"
     ]
    }
   ],
   "source": [
    "print('--- %s seconds ---' % (time.time() - start_time))"
   ]
  }
 ],
 "metadata": {
  "kernelspec": {
   "display_name": "Python 3 (ipykernel)",
   "language": "python",
   "name": "python3"
  },
  "language_info": {
   "codemirror_mode": {
    "name": "ipython",
    "version": 3
   },
   "file_extension": ".py",
   "mimetype": "text/x-python",
   "name": "python",
   "nbconvert_exporter": "python",
   "pygments_lexer": "ipython3",
   "version": "3.8.8"
  },
  "nteract": {
   "version": "0.22.0"
  }
 },
 "nbformat": 4,
 "nbformat_minor": 4
}
